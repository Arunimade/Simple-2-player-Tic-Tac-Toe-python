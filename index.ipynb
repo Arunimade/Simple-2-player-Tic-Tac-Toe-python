def draw_board(spots):
board = (f"|{spots[1]}|{spots[2]}|{spots[3]}|\n"
f"|{spots[4]}|{spots[5]}|{spots[6]}|\n"
f"|{spots[7]}|{spots[8]}|{spots[9]}|")
print(board)
def check_turn(turn):
ifturn % 2 == 0:return 'O'
else:return 'X'
def check_for_win(dict):
# Handle Horizontal Cases
if (spots[1] == spots[2] == spots[3]) \
or(spots[4] == spots[5] == spots[6]) \
or(spots[7] == spots[8] == spots[9]):
return True
# Handle Vertical Cases
elif (spots[1] == spots[4] == spots[7]) \
Roll No. N221 Name:
Arunima De
Class : MBA Tech CE B Batch :
B
Date of Experiment: Date of Submission
or(spots[2] == spots[5] == spots[8]) \
or(spots[3] == spots[6] == spots[9]):
return True
# Diagonal Cases
elif (spots[1] == spots[5] == spots[9]) \
or(spots[3] == spots[5] == spots[7]):
return True
else:return False
import os
#from helpers import check_turn, check_for_win, draw_board
# Declare allthe variables we're going to need
spots = {1: '1', 2 : '2', 3: '3', 4 : '4', 5 : '5',
6 : '6', 7 : '7', 8 : '8', 9 : '9'}
playing, complete = True, False
turn = 0
prev_turn = -1
# Game Loop
while playing:
# Resetthe screen
os.system('cls' if os.name == 'nt' else 'clear')
# Draw the current Game Board
draw_board(spots)
# If an invalid turn occurred, letthe player know
if prev_turn == turn:
print("Invalid spot selected, please pick another.")
prev_turn = turn
print("Player" + str((turn % 2) +1) + "'s turn: Pick your spot or press q to quit")
# Getinput and make sure it's valid
choice = input()
# The game has ended,
if choice == 'q':
playing = False
elif str.isdigit(choice) and int(choice) in spots:
# Check ifthe spotis already taken.
if not spots[int(choice)] in {"X", "O"}:
# If not, update board and incrementthe turn
turn += 1
spots[int(choice)] = check_turn(turn)
# Check ifthe game has ended (and if someone won)
if check_for_win(spots): playing, complete = False, True
ifturn > 8: playing = False
# Update the board one lasttime.
os.system('cls' if os.name == 'nt' else 'clear')
draw_board(spots)
# Ifthere was a winner, say who won
if complete:
if check_turn(turn) == 'X': print("Player1 Wins!")
else: print("Player 2 Wins!")
else:
# Tie Game
print("No Winner")
print("Thanks for playing!")


